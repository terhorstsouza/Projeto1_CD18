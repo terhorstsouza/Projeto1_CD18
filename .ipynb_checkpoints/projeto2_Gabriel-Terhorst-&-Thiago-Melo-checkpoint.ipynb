{
 "cells": [
  {
   "cell_type": "markdown",
   "metadata": {},
   "source": [
    "# PROJETO NAIVE BAYES - CIÊNCIA DOS DADOS\n",
    "\n",
    "## Gabriel Terhorst de Souza e Thiago Mello\n",
    "\n",
    "### Sala 2B"
   ]
  },
  {
   "cell_type": "code",
   "execution_count": null,
   "metadata": {},
   "outputs": [],
   "source": [
    "#Link para o GitHub:\n",
    "\n",
    "#https://github.com/terhorstsouza/Projeto1_CD18"
   ]
  },
  {
   "cell_type": "code",
   "execution_count": null,
   "metadata": {},
   "outputs": [],
   "source": [
    "#Aqui importamos todas as bibliotecas necessárias para o projeto\n",
    "\n",
    "import pandas as pd \n",
    "import math\n",
    "import mpmath\n",
    "import numpy as np \n",
    "import matplotlib.pyplot as plt\n",
    "import emoji"
   ]
  },
  {
   "cell_type": "code",
   "execution_count": 3,
   "metadata": {},
   "outputs": [],
   "source": [
    "#Aqui carregamos os arquivos Excel\n",
    "\n",
    "df = pd.read_excel((\"Produto_Escolhido--Razer.xlsx\"))\n",
    "\n",
    "df2 = pd.read_excel(\"Produto_Escolhido--Razer.xlsx\", sheet_name = 'Teste')\n"
   ]
  },
  {
   "cell_type": "code",
   "execution_count": 4,
   "metadata": {},
   "outputs": [],
   "source": [
    "#Aqui eliminamos possíveis \"Nan\"\n",
    "\n",
    "df.dropna(inplace=True)\n",
    "df2.dropna(inplace=True)"
   ]
  },
  {
   "cell_type": "code",
   "execution_count": 5,
   "metadata": {},
   "outputs": [],
   "source": [
    "#Aqui definimos as colunas a serem usadas e colocamos o indice\n",
    "\n",
    "#Dataframe de Treinamento\n",
    "Razerzinho = df.loc[:, ['Treinamento','Categoria']] \n",
    "\n",
    "Razerzinho_idx = Razerzinho.set_index('Treinamento')\n",
    "\n",
    "#Dataframe de Testes\n",
    "Razer = df2.loc[:, ['Teste', 'Categoria']]\n",
    "\n",
    "Razer_idx = Razer.set_index('Teste')\n",
    "\n",
    "\n",
    "Todos = Razer_idx\n",
    "\n"
   ]
  },
  {
   "cell_type": "code",
   "execution_count": 6,
   "metadata": {},
   "outputs": [
    {
     "data": {
      "text/html": [
       "<div>\n",
       "<style scoped>\n",
       "    .dataframe tbody tr th:only-of-type {\n",
       "        vertical-align: middle;\n",
       "    }\n",
       "\n",
       "    .dataframe tbody tr th {\n",
       "        vertical-align: top;\n",
       "    }\n",
       "\n",
       "    .dataframe thead th {\n",
       "        text-align: right;\n",
       "    }\n",
       "</style>\n",
       "<table border=\"1\" class=\"dataframe\">\n",
       "  <thead>\n",
       "    <tr style=\"text-align: right;\">\n",
       "      <th></th>\n",
       "      <th>Categoria</th>\n",
       "    </tr>\n",
       "    <tr>\n",
       "      <th>Teste</th>\n",
       "      <th></th>\n",
       "    </tr>\n",
       "  </thead>\n",
       "  <tbody>\n",
       "    <tr>\n",
       "      <th>rt @brihtwulf: enter this #giveaway for a chance to win a #razer ornata gaming keyboard from brihtwulf (https://t.co/oly3ntblta)!\\n\\nhttps://…</th>\n",
       "      <td>0</td>\n",
       "    </tr>\n",
       "    <tr>\n",
       "      <th>rt @razer: sometimes having only one is not enough.\\n\\n📸 siliconart https://t.co/j9lapj4uw2</th>\n",
       "      <td>1</td>\n",
       "    </tr>\n",
       "    <tr>\n",
       "      <th>@cradelus razer deathadder elite, ive loved this mouse for 5 years. time to renew it</th>\n",
       "      <td>1</td>\n",
       "    </tr>\n",
       "    <tr>\n",
       "      <th>rt @mkbhd: slated for october:\\n\\niphone xr\\nmatte black microsoft surface\\ngoogle pixel 3\\nlg v40\\nhuawei mate 20 pro\\nrazer phone 2\\noneplus 6t\\n.…</th>\n",
       "      <td>0</td>\n",
       "    </tr>\n",
       "    <tr>\n",
       "      <th>você prefere earphones ou headphones? — headphone da razer https://t.co/eszwdrnwky</th>\n",
       "      <td>0</td>\n",
       "    </tr>\n",
       "  </tbody>\n",
       "</table>\n",
       "</div>"
      ],
      "text/plain": [
       "                                                    Categoria\n",
       "Teste                                                        \n",
       "rt @brihtwulf: enter this #giveaway for a chanc...          0\n",
       "rt @razer: sometimes having only one is not eno...          1\n",
       "@cradelus razer deathadder elite, ive loved thi...          1\n",
       "rt @mkbhd: slated for october:\\n\\niphone xr\\nma...          0\n",
       "você prefere earphones ou headphones? — headpho...          0"
      ]
     },
     "execution_count": 6,
     "metadata": {},
     "output_type": "execute_result"
    }
   ],
   "source": [
    "Razer_idx.head()"
   ]
  },
  {
   "cell_type": "code",
   "execution_count": 7,
   "metadata": {},
   "outputs": [
    {
     "data": {
      "text/html": [
       "<div>\n",
       "<style scoped>\n",
       "    .dataframe tbody tr th:only-of-type {\n",
       "        vertical-align: middle;\n",
       "    }\n",
       "\n",
       "    .dataframe tbody tr th {\n",
       "        vertical-align: top;\n",
       "    }\n",
       "\n",
       "    .dataframe thead th {\n",
       "        text-align: right;\n",
       "    }\n",
       "</style>\n",
       "<table border=\"1\" class=\"dataframe\">\n",
       "  <thead>\n",
       "    <tr style=\"text-align: right;\">\n",
       "      <th></th>\n",
       "      <th>Categoria</th>\n",
       "    </tr>\n",
       "    <tr>\n",
       "      <th>Treinamento</th>\n",
       "      <th></th>\n",
       "    </tr>\n",
       "  </thead>\n",
       "  <tbody>\n",
       "    <tr>\n",
       "      <th>i get my razer huntsman elite in the mail today, can't wait to get home from work and play with it!</th>\n",
       "      <td>0</td>\n",
       "    </tr>\n",
       "    <tr>\n",
       "      <th>rt @tommey: giving away a pair of @razer kraken pro v2s, to enter just follow the instructions below:\\n\\n- follow @tommey\\n- rt this tweet\\n- r…</th>\n",
       "      <td>0</td>\n",
       "    </tr>\n",
       "    <tr>\n",
       "      <th>i❤october, birthdays &amp;amp; all the major 2018 hardware releases courtesy of #microsoft #lg #google #razer #samsung #huawei #oneplus https://t.co/kvkgjuciqk</th>\n",
       "      <td>1</td>\n",
       "    </tr>\n",
       "    <tr>\n",
       "      <th>rt @mkbhd: slated for october:\\n\\niphone xr\\nmatte black microsoft surface\\ngoogle pixel 3\\nlg v40\\nhuawei mate 20 pro\\nrazer phone 2\\noneplus 6t\\n.…</th>\n",
       "      <td>0</td>\n",
       "    </tr>\n",
       "    <tr>\n",
       "      <th>rt @mkbhd: slated for october:\\n\\niphone xr\\nmatte black microsoft surface\\ngoogle pixel 3\\nlg v40\\nhuawei mate 20 pro\\nrazer phone 2\\noneplus 6t\\n.…</th>\n",
       "      <td>0</td>\n",
       "    </tr>\n",
       "  </tbody>\n",
       "</table>\n",
       "</div>"
      ],
      "text/plain": [
       "                                                    Categoria\n",
       "Treinamento                                                  \n",
       "i get my razer huntsman elite in the mail today...          0\n",
       "rt @tommey: giving away a pair of @razer kraken...          0\n",
       "i❤october, birthdays &amp; all the major 2018 h...          1\n",
       "rt @mkbhd: slated for october:\\n\\niphone xr\\nma...          0\n",
       "rt @mkbhd: slated for october:\\n\\niphone xr\\nma...          0"
      ]
     },
     "execution_count": 7,
     "metadata": {},
     "output_type": "execute_result"
    }
   ],
   "source": [
    "Razerzinho_idx.head()"
   ]
  },
  {
   "cell_type": "code",
   "execution_count": 8,
   "metadata": {},
   "outputs": [],
   "source": [
    "#Através dessa função, eliminamos os caracteres que não convem para a atribuição de probabilidade\n",
    "\n",
    "def limpa_texto(texto):\n",
    "    lista = []\n",
    "\n",
    "    letras=[\"a\",\"b\",\"c\",\"d\",\"e\",\"f\",\"g\",\"h\",\"i\",\"j\",\"k\",\"l\",\"m\",\"n\",\"o\",\"p\",\\\n",
    "            \"q\",\"r\",\"s\",\"t\",\"u\",\"v\",\"w\",\"x\",\"y\",\"z\",\"A\",\"B\",\"C\",\"D\",\"E\",\"F\",\\\n",
    "            \"G\",\"H\",\"I\",\"J\",\"K\",\"L\",\"M\",\"N\",\"O\",\"P\",\"Q\",\"R\",\"S\",\"T\",\"U\",\"V\",\\\n",
    "            \"W\",\"X\",\"Y\",\"Z\", \" \",'❤','📸','📲','🔊','😇','🤔','🔱','📹','💜','👀','😍','🏟️','👩','🎤','👨','👯','🎶','🕹️','😭','😘','🔥','🐍','💦','🔄','♥️','🤗','❤️']\n",
    "    \n",
    "    Emojis = ['❤','📸','📲','🔊','😇','🤔','🔱','📹','💜','👀','😍','🏟️','👩','🎤','👨','👯','🎶','🕹️','😭','😘','🔥','🐍','💦','🔄','♥️','🤗','❤️']\n",
    "    \n",
    "    for letra in texto:\n",
    "        if letra in Emojis:\n",
    "            lista.append(\" \")\n",
    "            lista.append(letra)\n",
    "            lista.append(\" \")\n",
    "        lista.append(letra)\n",
    "        if letra not in letras:\n",
    "            lista.remove(letra)\n",
    "\n",
    "    final = ''.join(lista)\n",
    "    return final\n",
    "\n"
   ]
  },
  {
   "cell_type": "markdown",
   "metadata": {},
   "source": [
    "## RELEVANTES"
   ]
  },
  {
   "cell_type": "code",
   "execution_count": 9,
   "metadata": {},
   "outputs": [],
   "source": [
    "#Aqui calculamos a probabilidade de ser relevante para cada palavra\n",
    "\n",
    "texto_df_R = Razerzinho_idx[Razerzinho_idx.Categoria==1].index\n",
    "\n",
    "lista_texto_R_old = list(texto_df_R)\n",
    "lista_texto_R = []\n",
    "\n",
    "for e in lista_texto_R_old:\n",
    "    lista_texto_R.append(limpa_texto(e))\n",
    "\n",
    "textao_R = \" \".join(lista_texto_R)\n",
    "split_txt_R = textao_R.split()\n",
    "\n",
    "pandas_txt_R = pd.Series(split_txt_R)\n",
    "\n"
   ]
  },
  {
   "cell_type": "code",
   "execution_count": 10,
   "metadata": {},
   "outputs": [],
   "source": [
    "vc_r = pandas_txt_R.value_counts()\n",
    "vc_r1 = pandas_txt_R.value_counts() + 1"
   ]
  },
  {
   "cell_type": "code",
   "execution_count": 11,
   "metadata": {},
   "outputs": [],
   "source": [
    "tot_r= sum(vc_r)\n",
    "tot_r1 = sum(vc_r1)"
   ]
  },
  {
   "cell_type": "code",
   "execution_count": 12,
   "metadata": {},
   "outputs": [],
   "source": [
    "prob_r_old = vc_r / tot_r \n",
    "prob_r1_old = vc_r1/ tot_r1"
   ]
  },
  {
   "cell_type": "code",
   "execution_count": 13,
   "metadata": {},
   "outputs": [
    {
     "data": {
      "text/plain": [
       "razer    0.065071\n",
       "📸        0.046654\n",
       "rt       0.039288\n",
       "is       0.035605\n",
       "only     0.025783\n",
       "dtype: float64"
      ]
     },
     "execution_count": 13,
     "metadata": {},
     "output_type": "execute_result"
    }
   ],
   "source": [
    "prob_r_old.head()"
   ]
  },
  {
   "cell_type": "markdown",
   "metadata": {},
   "source": [
    "## IRRELEVANTES"
   ]
  },
  {
   "cell_type": "code",
   "execution_count": 14,
   "metadata": {},
   "outputs": [],
   "source": [
    "#Aqui calculamos a probabilidade de ser irrelevante para cada palavra\n",
    "\n",
    "texto_df_I = Razerzinho_idx[Razerzinho_idx.Categoria==0].index\n",
    "\n",
    "lista_texto_I_old = list(texto_df_I)\n",
    "\n",
    "lista_texto_I = []\n",
    "\n",
    "for w in lista_texto_I_old:\n",
    "    lista_texto_I.append(limpa_texto(w))\n",
    "\n",
    "\n",
    "textao_I = \" \".join(lista_texto_I)\n",
    "split_txt_I = textao_I.split()\n",
    "\n",
    "pandas_txt_I = pd.Series(split_txt_I)\n"
   ]
  },
  {
   "cell_type": "code",
   "execution_count": 15,
   "metadata": {},
   "outputs": [],
   "source": [
    "vc_i = pandas_txt_I.value_counts() \n",
    "vc_i1 = pandas_txt_I.value_counts() + 1\n"
   ]
  },
  {
   "cell_type": "code",
   "execution_count": 16,
   "metadata": {},
   "outputs": [],
   "source": [
    "tot_i= sum(vc_i)\n",
    "tot_i1 = sum(vc_i1)"
   ]
  },
  {
   "cell_type": "code",
   "execution_count": 17,
   "metadata": {},
   "outputs": [],
   "source": [
    "prob_i_old = (vc_i / tot_i)\n",
    "prob_i1_old = (vc_i1/tot_i1)"
   ]
  },
  {
   "cell_type": "code",
   "execution_count": 18,
   "metadata": {},
   "outputs": [
    {
     "data": {
      "text/plain": [
       "rt       0.045869\n",
       "razer    0.031288\n",
       "phone    0.022783\n",
       "for      0.021871\n",
       "pixel    0.020960\n",
       "dtype: float64"
      ]
     },
     "execution_count": 18,
     "metadata": {},
     "output_type": "execute_result"
    }
   ],
   "source": [
    "prob_i_old.head()"
   ]
  },
  {
   "cell_type": "markdown",
   "metadata": {},
   "source": [
    "# PROBABILIDADE DE SER RELEVANTE"
   ]
  },
  {
   "cell_type": "code",
   "execution_count": 19,
   "metadata": {},
   "outputs": [
    {
     "data": {
      "text/plain": [
       "0.3310302783986995"
      ]
     },
     "execution_count": 19,
     "metadata": {},
     "output_type": "execute_result"
    }
   ],
   "source": [
    "total = tot_i + tot_r\n",
    "\n",
    "pob_R = tot_r/total\n",
    "pob_R1 = tot_r1/total\n",
    "pob_R"
   ]
  },
  {
   "cell_type": "markdown",
   "metadata": {},
   "source": [
    "# PROBABILIDADE DE SER IRRELEVANTE"
   ]
  },
  {
   "cell_type": "code",
   "execution_count": 20,
   "metadata": {},
   "outputs": [
    {
     "data": {
      "text/plain": [
       "0.6689697216013005"
      ]
     },
     "execution_count": 20,
     "metadata": {},
     "output_type": "execute_result"
    }
   ],
   "source": [
    "pob_I = tot_i/total\n",
    "pob_I1 = tot_i1/total\n",
    "pob_I"
   ]
  },
  {
   "cell_type": "markdown",
   "metadata": {},
   "source": [
    "# Probabilidade final de ser relevante"
   ]
  },
  {
   "cell_type": "code",
   "execution_count": 21,
   "metadata": {},
   "outputs": [],
   "source": [
    "prob_r = prob_r_old * pob_R\n",
    "prob_r1 = prob_r1_old * pob_R"
   ]
  },
  {
   "cell_type": "markdown",
   "metadata": {},
   "source": [
    "# Probabilidade final de ser irrelevante"
   ]
  },
  {
   "cell_type": "code",
   "execution_count": 22,
   "metadata": {},
   "outputs": [],
   "source": [
    "prob_i = prob_i_old * pob_I\n",
    "prob_i1 = prob_i1_old * pob_I1"
   ]
  },
  {
   "cell_type": "code",
   "execution_count": 97,
   "metadata": {},
   "outputs": [],
   "source": [
    "#Aqui aplicamos Naive Bayes\n",
    "\n",
    "lt = list(prob_i1.index)+ list(prob_r1.index)\n",
    "lu = set(lt)\n",
    "\n",
    "probpalr = 0\n",
    "probpali = 0\n",
    "\n",
    "probfrases = []\n",
    "\n",
    "novo_corte = []\n",
    "    \n",
    "for frase in Razer_idx.index:\n",
    "    corte = frase.split()\n",
    "    \n",
    "    for i in corte:\n",
    "        novo_corte.append(limpa_texto(i))\n",
    "    \n",
    "    for palavra in novo_corte:\n",
    "        if palavra in prob_r.index:\n",
    "            probpalr += math.log(prob_r[palavra])\n",
    "\n",
    "        \n",
    "        if palavra in prob_i.index:\n",
    "            probpali += math.log(prob_i[palavra])\n",
    "\n",
    "            \n",
    "        else:\n",
    "            probpalr *= 1/(tot_r1+len(lu))\n",
    "            probpali *= 1/(tot_i1+len(lu))\n",
    "\n",
    "    if probpalr > probpali:\n",
    "        probfrase = 'sim'\n",
    "    \n",
    "    else:\n",
    "        probfrase = 'nao'\n",
    "    \n",
    "    probfrases.append(probfrase)\n",
    "      \n",
    "\n",
    "pandas_prob = pd.Series(probfrases)\n",
    "\n"
   ]
  },
  {
   "cell_type": "code",
   "execution_count": 123,
   "metadata": {},
   "outputs": [],
   "source": [
    "#Aqui colocamos nossos resultados no mesmo dataframe do dataframe de testes\n",
    "\n",
    "Razer_idx['Simulador'] = probfrases"
   ]
  },
  {
   "cell_type": "code",
   "execution_count": 104,
   "metadata": {},
   "outputs": [],
   "source": [
    "#Aqui salvamos o arquivo em um Arquivo Excel\n",
    "\n",
    "final = Razer_idx.to_excel('Projedo1_CD.xlsx')"
   ]
  },
  {
   "cell_type": "code",
   "execution_count": 122,
   "metadata": {
    "scrolled": true
   },
   "outputs": [
    {
     "data": {
      "text/html": [
       "<div>\n",
       "<style scoped>\n",
       "    .dataframe tbody tr th:only-of-type {\n",
       "        vertical-align: middle;\n",
       "    }\n",
       "\n",
       "    .dataframe tbody tr th {\n",
       "        vertical-align: top;\n",
       "    }\n",
       "\n",
       "    .dataframe thead th {\n",
       "        text-align: right;\n",
       "    }\n",
       "</style>\n",
       "<table border=\"1\" class=\"dataframe\">\n",
       "  <thead>\n",
       "    <tr style=\"text-align: right;\">\n",
       "      <th>Simulador</th>\n",
       "      <th>nao</th>\n",
       "      <th>sim</th>\n",
       "    </tr>\n",
       "    <tr>\n",
       "      <th>Categoria</th>\n",
       "      <th></th>\n",
       "      <th></th>\n",
       "    </tr>\n",
       "  </thead>\n",
       "  <tbody>\n",
       "    <tr>\n",
       "      <th>0</th>\n",
       "      <td>97</td>\n",
       "      <td>41</td>\n",
       "    </tr>\n",
       "    <tr>\n",
       "      <th>1</th>\n",
       "      <td>19</td>\n",
       "      <td>43</td>\n",
       "    </tr>\n",
       "  </tbody>\n",
       "</table>\n",
       "</div>"
      ],
      "text/plain": [
       "Simulador  nao  sim\n",
       "Categoria          \n",
       "0           97   41\n",
       "1           19   43"
      ]
     },
     "execution_count": 122,
     "metadata": {},
     "output_type": "execute_result"
    }
   ],
   "source": [
    "#Aqui analisamos a correspondencia entre as respostas do Naive Bayes e a nossa classificação\n",
    "\n",
    "pd.crosstab(Razer_idx['Categoria'],Razer_idx['Simulador'])"
   ]
  },
  {
   "cell_type": "markdown",
   "metadata": {},
   "source": [
    "# conclusão"
   ]
  },
  {
   "cell_type": "markdown",
   "metadata": {},
   "source": [
    "1) Com o resultado obtido, podemos concluir que, com uma correspondencia de 70% entre os dados, nosso programa é extremamente confiável.\n",
    "\n",
    "2) Ele não poderia ser utilizado para gerar mais amostras de treinamento pois ele foi treinado com uma amostra de treino fixa, servindo somente para categorizar um(a) produto/marca especifíco(a).\n",
    "\n",
    "3) Outra aplucação possível para a utilização possível para o Naïve Bayes a detecçcão de cancer, pois é possível existirem positivos verdadeiros e positvos falsos e através dele é possivel identificar a probabilidade de um tumor ser benigno ou maligno, confrontar essas duas probabilidades para ter uma expectativa sobre se a pessoa possui cancer ou não.\n",
    "\n",
    "4) O programa pode ser melhorado caso seja utilizada uma maior base de tweets para o treinamento, além de, uma classificação para sinonimos.\n",
    "   Para a classificação de sinonimos, pode ser criada uma função que detectasse palavras dentro de uma mesma lista, que armazena palavras com significados semelhantes e atribuisse a probabilidade dessa  palavra ja existente. Para realizarmos essa função, consultariamos o dicionário de sinonimos em inglês, além da documentação do python. \n",
    "\n",
    "5) Outra possível limpeza para o programa seria a eliminação dos links, esses que atrapalharam a identificação das probabilidades.\n",
    "   "
   ]
  },
  {
   "cell_type": "code",
   "execution_count": null,
   "metadata": {},
   "outputs": [],
   "source": []
  }
 ],
 "metadata": {
  "kernelspec": {
   "display_name": "Python 3",
   "language": "python",
   "name": "python3"
  },
  "language_info": {
   "codemirror_mode": {
    "name": "ipython",
    "version": 3
   },
   "file_extension": ".py",
   "mimetype": "text/x-python",
   "name": "python",
   "nbconvert_exporter": "python",
   "pygments_lexer": "ipython3",
   "version": "3.6.5"
  }
 },
 "nbformat": 4,
 "nbformat_minor": 2
}

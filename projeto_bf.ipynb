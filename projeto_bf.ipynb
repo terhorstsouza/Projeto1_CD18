{
 "cells": [
  {
   "cell_type": "code",
   "execution_count": 11,
   "metadata": {},
   "outputs": [],
   "source": [
    "import pandas as pd\n",
    "import mpmath\n",
    "import math"
   ]
  },
  {
   "cell_type": "code",
   "execution_count": 12,
   "metadata": {},
   "outputs": [],
   "source": [
    "df = pd.read_excel(\"Produto_Escolhido--Battlefield5.xlsx\")"
   ]
  },
  {
   "cell_type": "code",
   "execution_count": 13,
   "metadata": {},
   "outputs": [],
   "source": [
    "df.dropna(inplace=True)"
   ]
  },
  {
   "cell_type": "code",
   "execution_count": 14,
   "metadata": {},
   "outputs": [],
   "source": [
    "def poisson(x, lamb):\n",
    "    P = (math.e**(-lamb) * lamb**x) / math.factorial(x)\n",
    "    return P\n",
    "    \n",
    "def bernoulli(p, x):\n",
    "    P = p**x * (1-p)**(1-x)\n",
    "    return P\n",
    "\n",
    "def bin_newton(x, n):\n",
    "    b = math.factorial(n) / (math.factorial(n-x) *  math.factorial(x))\n",
    "\n",
    "def binomial(p, x, n):\n",
    "    P = bin_newton(x, n) * p**x * (1-p)**()"
   ]
  },
  {
   "cell_type": "code",
   "execution_count": null,
   "metadata": {},
   "outputs": [],
   "source": []
  }
 ],
 "metadata": {
  "kernelspec": {
   "display_name": "Python 3",
   "language": "python",
   "name": "python3"
  },
  "language_info": {
   "codemirror_mode": {
    "name": "ipython",
    "version": 3
   },
   "file_extension": ".py",
   "mimetype": "text/x-python",
   "name": "python",
   "nbconvert_exporter": "python",
   "pygments_lexer": "ipython3",
   "version": "3.6.5"
  }
 },
 "nbformat": 4,
 "nbformat_minor": 2
}

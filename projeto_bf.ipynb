{
 "cells": [
  {
   "cell_type": "code",
   "execution_count": 1,
   "metadata": {},
   "outputs": [],
   "source": [
    "import pandas as pd \n",
    "import math\n",
    "import numpy as np \n",
    "import matplotlib.pyplot as plt "
   ]
  },
  {
   "cell_type": "code",
   "execution_count": 3,
   "metadata": {},
   "outputs": [],
   "source": [
    "\n",
    "df = pd.read_excel((\"Produto_Escolhido--Battlefield5.xlsx\"))\n",
    "\n",
    "df2 = pd.read_excel(\"Produto_Escolhido--Battlefield5.xlsx\", sheet_name = 'Teste')\n"
   ]
  },
  {
   "cell_type": "code",
   "execution_count": 4,
   "metadata": {},
   "outputs": [],
   "source": [
    "df.dropna(inplace=True)\n",
    "df2.dropna(inplace=True)"
   ]
  },
  {
   "cell_type": "code",
   "execution_count": 5,
   "metadata": {},
   "outputs": [],
   "source": [
    "Battlefield_V = df2.loc[:, ['Teste', 'Categoria']]\n",
    "\n",
    "Battlefield_v_idx = Battlefield_V.set_index('Teste')\n",
    "\n",
    "Battlefilho = df.loc[:, ['Treinamento','Categoria']] \n",
    "\n",
    "Battlefilho_idx = Battlefilho.set_index('Treinamento')\n"
   ]
  },
  {
   "cell_type": "code",
   "execution_count": 6,
   "metadata": {},
   "outputs": [],
   "source": [
    "def poisson(x, lamb):\n",
    "    P = (math.e**(-lamb) * lamb**x) / math.factorial(x)\n",
    "    return P\n",
    "    \n",
    "def bernoulli(p, x):\n",
    "    P = p**x * (1-p)**(1-x)\n",
    "    return P\n",
    "\n",
    "def bin_newton(x, n):\n",
    "    b = math.factorial(n) / (math.factorial(n-x) *  math.factorial(x))\n",
    "\n",
    "def binomial(p, x, n):\n",
    "    P = bin_newton(x, n) * p**x * (1-p)**()"
   ]
  },
  {
   "cell_type": "code",
   "execution_count": 7,
   "metadata": {},
   "outputs": [
    {
     "data": {
      "text/html": [
       "<div>\n",
       "<style scoped>\n",
       "    .dataframe tbody tr th:only-of-type {\n",
       "        vertical-align: middle;\n",
       "    }\n",
       "\n",
       "    .dataframe tbody tr th {\n",
       "        vertical-align: top;\n",
       "    }\n",
       "\n",
       "    .dataframe thead th {\n",
       "        text-align: right;\n",
       "    }\n",
       "</style>\n",
       "<table border=\"1\" class=\"dataframe\">\n",
       "  <thead>\n",
       "    <tr style=\"text-align: right;\">\n",
       "      <th></th>\n",
       "      <th>Categoria</th>\n",
       "    </tr>\n",
       "    <tr>\n",
       "      <th>Treinamento</th>\n",
       "      <th></th>\n",
       "    </tr>\n",
       "  </thead>\n",
       "  <tbody>\n",
       "    <tr>\n",
       "      <th>who needs #windows when even a pre-release aaa game runs smoothly on #linux ?!? 😜\\n\\nuse this lutris script: https://t.co/gjlqfromrw\\nneed proof? check: https://t.co/bjjfbbv6pm\\n\\n#dxvk #lutris #battlefield #battlefieldvbeta #battlefieldv #battlefield5 https://t.co/dgu0bvtas0 https://t.co/b7myzkaprw</th>\n",
       "      <td>0</td>\n",
       "    </tr>\n",
       "    <tr>\n",
       "      <th>rt @battlefield: 🔴 go, go, go! \\nthe #battlefield v open beta is now live for all players. https://t.co/t1zandgthn</th>\n",
       "      <td>0</td>\n",
       "    </tr>\n",
       "    <tr>\n",
       "      <th>battlefield v beta 🎮 ps4 gameplay live: https://t.co/fqavjwfvxi via @youtube</th>\n",
       "      <td>0</td>\n",
       "    </tr>\n",
       "    <tr>\n",
       "      <th>rt @battlefield: 🔴 go, go, go! \\nthe #battlefield v open beta is now live for all players. https://t.co/t1zandgthn</th>\n",
       "      <td>0</td>\n",
       "    </tr>\n",
       "    <tr>\n",
       "      <th>rt @vicenteprod: battlefield v - this is spectator mode \\n\\nwatch it/regarder in 4k: https://t.co/glahbr8ump\\n@battlefield https://t.co/g2vbz5…</th>\n",
       "      <td>0</td>\n",
       "    </tr>\n",
       "  </tbody>\n",
       "</table>\n",
       "</div>"
      ],
      "text/plain": [
       "                                                    Categoria\n",
       "Treinamento                                                  \n",
       "who needs #windows when even a pre-release aaa ...          0\n",
       "rt @battlefield: 🔴 go, go, go! \\nthe #battlefie...          0\n",
       "battlefield v beta 🎮 ps4 gameplay live: https:/...          0\n",
       "rt @battlefield: 🔴 go, go, go! \\nthe #battlefie...          0\n",
       "rt @vicenteprod: battlefield v - this is specta...          0"
      ]
     },
     "execution_count": 7,
     "metadata": {},
     "output_type": "execute_result"
    }
   ],
   "source": [
    "Battlefilho_idx.head()"
   ]
  },
  {
   "cell_type": "code",
   "execution_count": 42,
   "metadata": {},
   "outputs": [],
   "source": [
    "\n",
    "def limpa_texto(texto):\n",
    "    lista = []\n",
    "\n",
    "    letras=[\"a\",\"b\",\"c\",\"d\",\"e\",\"f\",\"g\",\"h\",\"i\",\"j\",\"k\",\"l\",\"m\",\"n\",\"o\",\"p\",\\\n",
    "            \"q\",\"r\",\"s\",\"t\",\"u\",\"v\",\"w\",\"x\",\"y\",\"z\",\"A\",\"B\",\"C\",\"D\",\"E\",\"F\",\\\n",
    "            \"G\",\"H\",\"I\",\"J\",\"K\",\"L\",\"M\",\"N\",\"O\",\"P\",\"Q\",\"R\",\"S\",\"T\",\"U\",\"V\",\\\n",
    "            \"W\",\"X\",\"Y\",\"Z\", \" \"]\n",
    "    for letra in texto:\n",
    "        lista.append(letra)\n",
    "        if letra not in letras:\n",
    "            lista.remove(letra)\n",
    "\n",
    "    final = ''.join(lista)\n",
    "    return final\n",
    "\n"
   ]
  },
  {
   "cell_type": "markdown",
   "metadata": {},
   "source": [
    "## RELEVANTES"
   ]
  },
  {
   "cell_type": "code",
   "execution_count": 46,
   "metadata": {},
   "outputs": [],
   "source": [
    "texto_df_R = Battlefilho_idx[Battlefilho_idx.Categoria==1].index\n",
    "\n",
    "\n",
    "\n",
    "lista_texto_R_old = list(texto_df_R)\n",
    "lista_texto_R = []\n",
    "for e in lista_texto_R_old:\n",
    "    lista_texto_R.append(limpa_texto(e))\n",
    "\n",
    "textao_R = \" \".join(lista_texto_R)\n",
    "split_txt_R = textao_R.split()\n",
    "\n",
    "pandas_txt_R = pd.Series(split_txt_R)\n"
   ]
  },
  {
   "cell_type": "code",
   "execution_count": 47,
   "metadata": {},
   "outputs": [],
   "source": [
    "vc_r = pandas_txt_R.value_counts() + 1"
   ]
  },
  {
   "cell_type": "code",
   "execution_count": 48,
   "metadata": {},
   "outputs": [],
   "source": [
    "tot_r= sum(vc_r)"
   ]
  },
  {
   "cell_type": "code",
   "execution_count": 49,
   "metadata": {},
   "outputs": [],
   "source": [
    "prob_r = vc_r / tot_r"
   ]
  },
  {
   "cell_type": "code",
   "execution_count": 50,
   "metadata": {},
   "outputs": [
    {
     "data": {
      "text/plain": [
       "battlefield    0.035354\n",
       "the            0.030303\n",
       "v              0.025253\n",
       "to             0.017172\n",
       "is             0.017172\n",
       "dtype: float64"
      ]
     },
     "execution_count": 50,
     "metadata": {},
     "output_type": "execute_result"
    }
   ],
   "source": [
    "prob_r.head()"
   ]
  },
  {
   "cell_type": "markdown",
   "metadata": {},
   "source": [
    "## IRRELEVANTES"
   ]
  },
  {
   "cell_type": "code",
   "execution_count": 51,
   "metadata": {},
   "outputs": [],
   "source": [
    "texto_df_I = Battlefilho_idx[Battlefilho_idx.Categoria==0].index\n",
    "\n",
    "lista_texto_I_old = list(texto_df_I)\n",
    "\n",
    "lista_texto_I = []\n",
    "\n",
    "for w in lista_texto_I_old:\n",
    "    lista_texto_I.append(limpa_texto(w))\n",
    "\n",
    "\n",
    "textao_I = \" \".join(lista_texto_I)\n",
    "split_txt_I = textao_I.split()\n",
    "\n",
    "pandas_txt_I = pd.Series(split_txt_I)\n",
    "\n"
   ]
  },
  {
   "cell_type": "code",
   "execution_count": 52,
   "metadata": {},
   "outputs": [],
   "source": [
    "vc_i = pandas_txt_I.value_counts() + 1"
   ]
  },
  {
   "cell_type": "code",
   "execution_count": 53,
   "metadata": {},
   "outputs": [],
   "source": [
    "tot_i= sum(vc_i)"
   ]
  },
  {
   "cell_type": "code",
   "execution_count": 54,
   "metadata": {},
   "outputs": [],
   "source": [
    "prob_i = vc_i / tot_i"
   ]
  },
  {
   "cell_type": "code",
   "execution_count": 55,
   "metadata": {},
   "outputs": [
    {
     "data": {
      "text/plain": [
       "battlefield    0.063615\n",
       "v              0.046332\n",
       "beta           0.033830\n",
       "go             0.029601\n",
       "rt             0.028498\n",
       "dtype: float64"
      ]
     },
     "execution_count": 55,
     "metadata": {},
     "output_type": "execute_result"
    }
   ],
   "source": [
    "prob_i.head()"
   ]
  },
  {
   "cell_type": "code",
   "execution_count": 56,
   "metadata": {},
   "outputs": [
    {
     "data": {
      "text/html": [
       "<div>\n",
       "<style scoped>\n",
       "    .dataframe tbody tr th:only-of-type {\n",
       "        vertical-align: middle;\n",
       "    }\n",
       "\n",
       "    .dataframe tbody tr th {\n",
       "        vertical-align: top;\n",
       "    }\n",
       "\n",
       "    .dataframe thead th {\n",
       "        text-align: right;\n",
       "    }\n",
       "</style>\n",
       "<table border=\"1\" class=\"dataframe\">\n",
       "  <thead>\n",
       "    <tr style=\"text-align: right;\">\n",
       "      <th></th>\n",
       "      <th>Categoria</th>\n",
       "    </tr>\n",
       "    <tr>\n",
       "      <th>Teste</th>\n",
       "      <th></th>\n",
       "    </tr>\n",
       "  </thead>\n",
       "  <tbody>\n",
       "    <tr>\n",
       "      <th>rt @battlefield: 🔴 go, go, go! \\nthe #battlefield v open beta is now live for all players. https://t.co/t1zandgthn</th>\n",
       "      <td>0.0</td>\n",
       "    </tr>\n",
       "    <tr>\n",
       "      <th>battlefield v doesn't feel nearly as good as i wanted it to.</th>\n",
       "      <td>1.0</td>\n",
       "    </tr>\n",
       "    <tr>\n",
       "      <th>we're getting the battlefield v beta... who wants to play??\\n-\\n#bfv #battlefield #pcbanguk #gaming #pc #brighton #sussex\\n#pcgaming #gaminglounge https://t.co/q71xurcpfv</th>\n",
       "      <td>0.0</td>\n",
       "    </tr>\n",
       "  </tbody>\n",
       "</table>\n",
       "</div>"
      ],
      "text/plain": [
       "                                                    Categoria\n",
       "Teste                                                        \n",
       "rt @battlefield: 🔴 go, go, go! \\nthe #battlefie...        0.0\n",
       "battlefield v doesn't feel nearly as good as i ...        1.0\n",
       "we're getting the battlefield v beta... who wan...        0.0"
      ]
     },
     "execution_count": 56,
     "metadata": {},
     "output_type": "execute_result"
    }
   ],
   "source": [
    "Battlefield_v_idx.head(3)"
   ]
  },
  {
   "cell_type": "code",
   "execution_count": 61,
   "metadata": {},
   "outputs": [
    {
     "data": {
      "text/plain": [
       "['Nao',\n",
       " 'Nao',\n",
       " 'Nao',\n",
       " 'Nao',\n",
       " 'Nao',\n",
       " 'Nao',\n",
       " 'Nao',\n",
       " 'Nao',\n",
       " 'Nao',\n",
       " 'Nao',\n",
       " 'Nao',\n",
       " 'Nao',\n",
       " 'Nao',\n",
       " 'Nao',\n",
       " 'Nao',\n",
       " 'Nao',\n",
       " 'Nao',\n",
       " 'Nao',\n",
       " 'Nao',\n",
       " 'Nao',\n",
       " 'Nao',\n",
       " 'Nao',\n",
       " 'Nao',\n",
       " 'Nao',\n",
       " 'Nao',\n",
       " 'Nao',\n",
       " 'Nao',\n",
       " 'Nao',\n",
       " 'Nao',\n",
       " 'Nao',\n",
       " 'Nao',\n",
       " 'Nao',\n",
       " 'Nao',\n",
       " 'Nao',\n",
       " 'Nao',\n",
       " 'Nao',\n",
       " 'Nao',\n",
       " 'Nao',\n",
       " 'Nao',\n",
       " 'Nao',\n",
       " 'Nao',\n",
       " 'Nao',\n",
       " 'Nao',\n",
       " 'Nao',\n",
       " 'Nao',\n",
       " 'Nao',\n",
       " 'Nao',\n",
       " 'Nao',\n",
       " 'Nao',\n",
       " 'Nao',\n",
       " 'Nao',\n",
       " 'Nao',\n",
       " 'Nao',\n",
       " 'Nao',\n",
       " 'Nao',\n",
       " 'Nao',\n",
       " 'Nao',\n",
       " 'Nao',\n",
       " 'Nao',\n",
       " 'Nao',\n",
       " 'Nao',\n",
       " 'Nao',\n",
       " 'Nao',\n",
       " 'Nao',\n",
       " 'Nao',\n",
       " 'Nao',\n",
       " 'Nao',\n",
       " 'Nao',\n",
       " 'Nao',\n",
       " 'Nao',\n",
       " 'Nao',\n",
       " 'Nao',\n",
       " 'Nao',\n",
       " 'Nao',\n",
       " 'Nao',\n",
       " 'Nao',\n",
       " 'Nao',\n",
       " 'Nao',\n",
       " 'Nao',\n",
       " 'Nao',\n",
       " 'Nao',\n",
       " 'Nao',\n",
       " 'Nao',\n",
       " 'Nao',\n",
       " 'Nao',\n",
       " 'Nao',\n",
       " 'Nao',\n",
       " 'Nao',\n",
       " 'Nao',\n",
       " 'Nao',\n",
       " 'Nao',\n",
       " 'Nao',\n",
       " 'Nao',\n",
       " 'Nao',\n",
       " 'Nao',\n",
       " 'Nao',\n",
       " 'Nao',\n",
       " 'Nao',\n",
       " 'Nao',\n",
       " 'Nao',\n",
       " 'Nao',\n",
       " 'Nao',\n",
       " 'Nao',\n",
       " 'Nao',\n",
       " 'Nao',\n",
       " 'Nao',\n",
       " 'Nao',\n",
       " 'Nao',\n",
       " 'Nao',\n",
       " 'Nao',\n",
       " 'Nao',\n",
       " 'Nao',\n",
       " 'Nao',\n",
       " 'Nao',\n",
       " 'Nao',\n",
       " 'Nao',\n",
       " 'Nao',\n",
       " 'Nao',\n",
       " 'Nao',\n",
       " 'Nao',\n",
       " 'Nao',\n",
       " 'Nao',\n",
       " 'Nao',\n",
       " 'Nao',\n",
       " 'Nao',\n",
       " 'Nao',\n",
       " 'Nao',\n",
       " 'Nao',\n",
       " 'Nao',\n",
       " 'Nao',\n",
       " 'Nao',\n",
       " 'Nao',\n",
       " 'Nao',\n",
       " 'Nao',\n",
       " 'Nao',\n",
       " 'Nao',\n",
       " 'Nao',\n",
       " 'Nao',\n",
       " 'Nao',\n",
       " 'Nao',\n",
       " 'Nao',\n",
       " 'Nao',\n",
       " 'Nao',\n",
       " 'Nao',\n",
       " 'Nao',\n",
       " 'Nao',\n",
       " 'Nao',\n",
       " 'Nao',\n",
       " 'Nao',\n",
       " 'Nao',\n",
       " 'Nao',\n",
       " 'Nao',\n",
       " 'Nao',\n",
       " 'Nao',\n",
       " 'Nao',\n",
       " 'Nao',\n",
       " 'Nao',\n",
       " 'Nao',\n",
       " 'Nao',\n",
       " 'Nao',\n",
       " 'Nao',\n",
       " 'Nao',\n",
       " 'Nao',\n",
       " 'Nao',\n",
       " 'Nao',\n",
       " 'Nao',\n",
       " 'Nao',\n",
       " 'Nao',\n",
       " 'Nao',\n",
       " 'Nao',\n",
       " 'Nao',\n",
       " 'Nao',\n",
       " 'Nao',\n",
       " 'Nao',\n",
       " 'Nao',\n",
       " 'Nao',\n",
       " 'Nao',\n",
       " 'Nao',\n",
       " 'Nao',\n",
       " 'Nao',\n",
       " 'Nao',\n",
       " 'Nao',\n",
       " 'Nao',\n",
       " 'Nao',\n",
       " 'Nao',\n",
       " 'Nao',\n",
       " 'Nao',\n",
       " 'Nao',\n",
       " 'Nao',\n",
       " 'Nao',\n",
       " 'Nao',\n",
       " 'Nao',\n",
       " 'Nao',\n",
       " 'Nao',\n",
       " 'Nao',\n",
       " 'Nao',\n",
       " 'Nao',\n",
       " 'Nao',\n",
       " 'Nao']"
      ]
     },
     "execution_count": 61,
     "metadata": {},
     "output_type": "execute_result"
    }
   ],
   "source": [
    "lt = list(prob_i.index)+ list(prob_r.index)\n",
    "lu = set(lt)\n",
    "\n",
    "probpalr = 0\n",
    "probpali = 0\n",
    "\n",
    "probfrases = []\n",
    "\n",
    "novo_corte = []\n",
    "    \n",
    "for frase in Battlefield_v_idx.index:\n",
    "    corte = frase.split()\n",
    "    \n",
    "    for i in corte:\n",
    "        novo_corte.append(limpa_texto(i))\n",
    "    \n",
    "    \n",
    "    for palavra in novo_corte:\n",
    "        if palavra in prob_r.index:\n",
    "            probpalr *= prob_r[palavra]\n",
    "\n",
    "        \n",
    "        elif palavra in prob_i.index:\n",
    "            probpali *= prob_i[palavra]\n",
    "\n",
    "            \n",
    "        else:\n",
    "            probpalr *= 1/(tot_r+len(lu))\n",
    "            probpali *= 1/(tot_i+len(lu))\n",
    "\n",
    "    \n",
    "    if probpalr > probpali:\n",
    "        probfrase = 'Sim'\n",
    "        print('funfando')\n",
    "    \n",
    "    else:\n",
    "        probfrase = 'Nao'\n",
    "    \n",
    "    probfrases.append(probfrase)\n",
    "    \n",
    "        \n",
    "probfrases    \n",
    "        \n",
    "        \n",
    "        \n",
    "        \n",
    "        \n",
    "        \n",
    "            "
   ]
  },
  {
   "cell_type": "code",
   "execution_count": null,
   "metadata": {},
   "outputs": [],
   "source": []
  }
 ],
 "metadata": {
  "kernelspec": {
   "display_name": "Python 3",
   "language": "python",
   "name": "python3"
  },
  "language_info": {
   "codemirror_mode": {
    "name": "ipython",
    "version": 3
   },
   "file_extension": ".py",
   "mimetype": "text/x-python",
   "name": "python",
   "nbconvert_exporter": "python",
   "pygments_lexer": "ipython3",
   "version": "3.6.5"
  }
 },
 "nbformat": 4,
 "nbformat_minor": 2
}

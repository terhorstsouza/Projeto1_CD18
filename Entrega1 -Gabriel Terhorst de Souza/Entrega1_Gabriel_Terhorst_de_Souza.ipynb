{
 "cells": [
  {
   "cell_type": "markdown",
   "metadata": {},
   "source": [
    "\n",
    "# **TRABALHO 1 - CIÊNCIA DOS DADOS**\n",
    "### **GABRIEL TERHORST DE SOUZA**\n",
    "\n",
    "#### **TURMA B**\n",
    "\n"
   ]
  },
  {
   "cell_type": "markdown",
   "metadata": {},
   "source": [
    "\n",
    "\n",
    "## PERGUNTA:\n"
   ]
  },
  {
   "cell_type": "markdown",
   "metadata": {},
   "source": [
    "# **Será que o fato de um país ter um IDH baixo é condizente com um maior número de Mortes por Epidemias e menos Empregos?**\n"
   ]
  },
  {
   "cell_type": "markdown",
   "metadata": {},
   "source": [
    "# Introdução:\n",
    "\n",
    "\n",
    "### **Atráves deste trabalho, busquei entender se ter um IDH baixo estava relacionado a ter uma taxa alta de Mortes por Epidemias e menos empregabilidade de pessoas dos 15 aos 24 anos.**\n",
    "\n",
    "### Antes de realizar minha análise eu tinha a expectativa de que países com menos IDH estavam diretamente correlacionados com ter vários casos de Mortes por Epidemia e maior % de jovens empregados (aqui estou considerando jovens como sendo pessoas da faixa de 15 à 24 anos).\n",
    "\n",
    "### ** Para isso, acessei o site \"GapMinder\" ( https://www.gapminder.org/data/) para obter os dados necessários para futura análise...Baixei os arquivos e os coloquei em um mesmo dataframe, para que assim eu pudesse plota-los em um gráfico de disperção e observar suas relações.**"
   ]
  },
  {
   "cell_type": "code",
   "execution_count": 2,
   "metadata": {},
   "outputs": [],
   "source": [
    "#Inicializando, importando as bibliotecas do python necessárias\n",
    "\n",
    "import pandas as pd \n",
    "import math\n",
    "import numpy as np \n",
    "import matplotlib.pyplot as plt "
   ]
  },
  {
   "cell_type": "code",
   "execution_count": 34,
   "metadata": {},
   "outputs": [],
   "source": [
    "#Lendo os arquivos em excel \n",
    "\n",
    "#lendo o arquivo sobre idh\n",
    "IDH = pd.read_excel('Indicator_HDI.xlsx')\n",
    "\n",
    "#Se refere a % de pessoas de 15 à 24 anos empregadas\n",
    "Empregos = pd.read_excel('indicator_t 15-24 employ.xlsx')\n",
    "\n",
    "#Se refere ao número de mortes por Epidemia\n",
    "Epidemia = pd.read_excel('indicator_epidemic killed.xlsx')"
   ]
  },
  {
   "cell_type": "code",
   "execution_count": 64,
   "metadata": {},
   "outputs": [],
   "source": [
    "#Removendo os \"Nan\"\n",
    "\n",
    "IDH.dropna(inplace= True)\n",
    "Epidemia.dropna(inplace=True)\n",
    "Empregos.dropna(inplace= True)\n"
   ]
  },
  {
   "cell_type": "code",
   "execution_count": 91,
   "metadata": {
    "slideshow": {
     "slide_type": "slide"
    }
   },
   "outputs": [],
   "source": [
    "#Selecionando o ano alvo de minha análise: 2007\n",
    "\n",
    "\n",
    "IDh = IDH.loc[:, ['HDI',2007]]\n",
    "EpidemiA = Epidemia.loc[:, ['Epidemic killed',2007]]\n",
    "EmpregoS = Empregos.loc[:, ['Total 15-24 employment to population (%)',2007]]\n"
   ]
  },
  {
   "cell_type": "code",
   "execution_count": 68,
   "metadata": {},
   "outputs": [],
   "source": [
    "#Setando o index para cada uma das váriaveis\n",
    "\n",
    "IDH_idx = IDh.set_index('HDI')\n",
    "Empregos_idx = EmpregoS.set_index('Total 15-24 employment to population (%)')\n",
    "Epidemia_idx = EpidemiA.set_index('Epidemic killed')"
   ]
  },
  {
   "cell_type": "code",
   "execution_count": 69,
   "metadata": {},
   "outputs": [],
   "source": [
    "#Juntando as váriaveis (Epidemia com IDH e Empregos com IDH) e eliminando os \"Nan\"\n",
    "\n",
    "juncao = Epidemia_idx.join(IDH_idx, how = 'inner', lsuffix = 'Epidemia', rsuffix = 'IDH')\n",
    "juncao2 = Empregos_idx.join(IDH_idx, how = 'inner', lsuffix = 'Empregos', rsuffix = 'IDH')\n",
    "juncao.dropna(inplace=True)"
   ]
  },
  {
   "cell_type": "code",
   "execution_count": 8,
   "metadata": {},
   "outputs": [
    {
     "data": {
      "text/html": [
       "<div>\n",
       "<style scoped>\n",
       "    .dataframe tbody tr th:only-of-type {\n",
       "        vertical-align: middle;\n",
       "    }\n",
       "\n",
       "    .dataframe tbody tr th {\n",
       "        vertical-align: top;\n",
       "    }\n",
       "\n",
       "    .dataframe thead th {\n",
       "        text-align: right;\n",
       "    }\n",
       "</style>\n",
       "<table border=\"1\" class=\"dataframe\">\n",
       "  <thead>\n",
       "    <tr style=\"text-align: right;\">\n",
       "      <th></th>\n",
       "      <th>2007Epidemia</th>\n",
       "      <th>2007IDH</th>\n",
       "    </tr>\n",
       "  </thead>\n",
       "  <tbody>\n",
       "    <tr>\n",
       "      <th>Afghanistan</th>\n",
       "      <td>0</td>\n",
       "      <td>0.363</td>\n",
       "    </tr>\n",
       "    <tr>\n",
       "      <th>Algeria</th>\n",
       "      <td>0</td>\n",
       "      <td>0.680</td>\n",
       "    </tr>\n",
       "    <tr>\n",
       "      <th>Argentina</th>\n",
       "      <td>0</td>\n",
       "      <td>0.780</td>\n",
       "    </tr>\n",
       "  </tbody>\n",
       "</table>\n",
       "</div>"
      ],
      "text/plain": [
       "             2007Epidemia  2007IDH\n",
       "Afghanistan             0    0.363\n",
       "Algeria                 0    0.680\n",
       "Argentina               0    0.780"
      ]
     },
     "execution_count": 8,
     "metadata": {},
     "output_type": "execute_result"
    }
   ],
   "source": [
    "#DATAFRAME Epidemia e IDH:\n",
    "\n",
    "juncao.head(3)"
   ]
  },
  {
   "cell_type": "code",
   "execution_count": 9,
   "metadata": {},
   "outputs": [
    {
     "data": {
      "text/html": [
       "<div>\n",
       "<style scoped>\n",
       "    .dataframe tbody tr th:only-of-type {\n",
       "        vertical-align: middle;\n",
       "    }\n",
       "\n",
       "    .dataframe tbody tr th {\n",
       "        vertical-align: top;\n",
       "    }\n",
       "\n",
       "    .dataframe thead th {\n",
       "        text-align: right;\n",
       "    }\n",
       "</style>\n",
       "<table border=\"1\" class=\"dataframe\">\n",
       "  <thead>\n",
       "    <tr style=\"text-align: right;\">\n",
       "      <th></th>\n",
       "      <th>2007Empregos</th>\n",
       "      <th>2007IDH</th>\n",
       "    </tr>\n",
       "  </thead>\n",
       "  <tbody>\n",
       "    <tr>\n",
       "      <th>Afghanistan</th>\n",
       "      <td>48.0</td>\n",
       "      <td>0.363</td>\n",
       "    </tr>\n",
       "    <tr>\n",
       "      <th>Algeria</th>\n",
       "      <td>34.0</td>\n",
       "      <td>0.680</td>\n",
       "    </tr>\n",
       "    <tr>\n",
       "      <th>Argentina</th>\n",
       "      <td>39.0</td>\n",
       "      <td>0.780</td>\n",
       "    </tr>\n",
       "  </tbody>\n",
       "</table>\n",
       "</div>"
      ],
      "text/plain": [
       "             2007Empregos  2007IDH\n",
       "Afghanistan          48.0    0.363\n",
       "Algeria              34.0    0.680\n",
       "Argentina            39.0    0.780"
      ]
     },
     "execution_count": 9,
     "metadata": {},
     "output_type": "execute_result"
    }
   ],
   "source": [
    "#DATAFRAME Empregos e IDH:\n",
    "\n",
    "juncao2.head(3)"
   ]
  },
  {
   "cell_type": "code",
   "execution_count": 10,
   "metadata": {},
   "outputs": [
    {
     "data": {
      "text/html": [
       "<div>\n",
       "<style scoped>\n",
       "    .dataframe tbody tr th:only-of-type {\n",
       "        vertical-align: middle;\n",
       "    }\n",
       "\n",
       "    .dataframe tbody tr th {\n",
       "        vertical-align: top;\n",
       "    }\n",
       "\n",
       "    .dataframe thead th {\n",
       "        text-align: right;\n",
       "    }\n",
       "</style>\n",
       "<table border=\"1\" class=\"dataframe\">\n",
       "  <thead>\n",
       "    <tr style=\"text-align: right;\">\n",
       "      <th></th>\n",
       "      <th>2007Epidemia</th>\n",
       "      <th>2007IDH</th>\n",
       "      <th>2007</th>\n",
       "    </tr>\n",
       "  </thead>\n",
       "  <tbody>\n",
       "    <tr>\n",
       "      <th>Congo, Dem. Rep.</th>\n",
       "      <td>172</td>\n",
       "      <td>0.271</td>\n",
       "      <td>60.700001</td>\n",
       "    </tr>\n",
       "    <tr>\n",
       "      <th>Niger</th>\n",
       "      <td>0</td>\n",
       "      <td>0.273</td>\n",
       "      <td>51.299999</td>\n",
       "    </tr>\n",
       "    <tr>\n",
       "      <th>Burundi</th>\n",
       "      <td>0</td>\n",
       "      <td>0.289</td>\n",
       "      <td>72.000000</td>\n",
       "    </tr>\n",
       "  </tbody>\n",
       "</table>\n",
       "</div>"
      ],
      "text/plain": [
       "                  2007Epidemia  2007IDH       2007\n",
       "Congo, Dem. Rep.           172    0.271  60.700001\n",
       "Niger                        0    0.273  51.299999\n",
       "Burundi                      0    0.289  72.000000"
      ]
     },
     "execution_count": 10,
     "metadata": {},
     "output_type": "execute_result"
    }
   ],
   "source": [
    "#Junção de Empregos com o dataframe (Epidemia + IDH) e eliminação dos possíveis \"Nan\"\n",
    "\n",
    "novo = juncao.join(Empregos_idx, how = 'inner')\n",
    "novo.dropna(inplace=True)\n",
    "\n",
    "# Organizando o Dataframe pelo IDH (do menor ao maior):\n",
    "\n",
    "novo.sort_values('2007IDH').head(3)\n",
    "\n",
    "#Vale destacar que o \"2007\" que consta na tabela se refere à coluna de % da população de 15 à 24 anos empregada"
   ]
  },
  {
   "cell_type": "code",
   "execution_count": 11,
   "metadata": {},
   "outputs": [],
   "source": [
    "#Salvando em CSV e em Excel\n",
    "\n",
    "novo.to_csv( 'relação_entre_IDH_Empregos_e_Epidemias.csv', index=True)\n",
    "novo.to_excel('relação_entre_IDH_Empregos_e_Epidemias.xlsx', index=True)"
   ]
  },
  {
   "cell_type": "markdown",
   "metadata": {},
   "source": [
    "### Para ter uma ideia melhor da relação países - mortes, eu resolvi utilizar o \"value_counts\",  para que ele me mostrassem quantos paises apresentam valores diferentes para o númer de mortes...\n",
    "\n",
    "### A coluna da esquerda se refere ao número de mortes e a da direita a quantidade de países que tiveram essa respectiva quantidade."
   ]
  },
  {
   "cell_type": "code",
   "execution_count": 12,
   "metadata": {},
   "outputs": [
    {
     "data": {
      "text/plain": [
       "0      70\n",
       "30      2\n",
       "86      1\n",
       "584     1\n",
       "67      1\n",
       "56      1\n",
       "172     1\n",
       "403     1\n",
       "16      1\n",
       "5       1\n",
       "1       1\n",
       "Name: 2007Epidemia, dtype: int64"
      ]
     },
     "execution_count": 12,
     "metadata": {},
     "output_type": "execute_result"
    }
   ],
   "source": [
    "#Analisando a relação quantidade de países por quantidade de mortes por Epidemia\n",
    "\n",
    "# Aqui conseguimos perceber que a maior parte dos países não teve nenhum caso de morte por epidemia\n",
    "\n",
    "novo['2007Epidemia'].value_counts()"
   ]
  },
  {
   "cell_type": "code",
   "execution_count": 13,
   "metadata": {},
   "outputs": [
    {
     "data": {
      "text/plain": [
       "<matplotlib.axes._subplots.AxesSubplot at 0x19d33fa6160>"
      ]
     },
     "execution_count": 13,
     "metadata": {},
     "output_type": "execute_result"
    },
    {
     "data": {
      "image/png": "[encoded data removed]",
      "text/plain": [
       "<Figure size 432x288 with 1 Axes>"
      ]
     },
     "metadata": {},
     "output_type": "display_data"
    }
   ],
   "source": [
    "#Colocando o dataframe (Epidemia e IDH) em um gráfico de disperção\n",
    "\n",
    "juncao.plot.scatter(x= ['2007Epidemia'], y = ['2007IDH'])"
   ]
  },
  {
   "cell_type": "code",
   "execution_count": 14,
   "metadata": {},
   "outputs": [
    {
     "name": "stdout",
     "output_type": "stream",
     "text": [
      "Ajuste linear entre X3 e X4:\n",
      "Coeficiente linear: 0.6362328775737399\n",
      "Coeficiente angular: -0.00048266419549855707\n"
     ]
    },
    {
     "data": {
      "image/png": "[encoded data removed]",
      "text/plain": [
       "<Figure size 576x432 with 1 Axes>"
      ]
     },
     "metadata": {},
     "output_type": "display_data"
    }
   ],
   "source": [
    "#Calculando a reta de tendência deste gráfico e plotando-a no mesmo\n",
    "\n",
    "def reta(dados_x, dados_y):    \n",
    "    a = dados_y.cov(dados_x) / dados_x.var()\n",
    "    b = dados_y.mean() - a*dados_x.mean()\n",
    " \n",
    "    print('Ajuste linear entre X3 e X4:')\n",
    "    print('Coeficiente linear:', b)\n",
    "    print('Coeficiente angular:', a)\n",
    " \n",
    "    fig = plt.figure(figsize=(8, 6))\n",
    "    plt.scatter(dados_x, dados_y, c='red', alpha=0.8)\n",
    "    plt.title('Epidemia versus IDH')\n",
    "    plt.xlabel('Epidemia')\n",
    "    plt.ylabel('IDH')\n",
    " \n",
    "    plt.plot((dados_x.min(), dados_x.max()), (a*dados_x.min()+b, a*dados_x.max()+b), color='blue')\n",
    " \n",
    "    plt.tight_layout()\n",
    "    plt.show()\n",
    "    \n",
    "\n",
    "resultado = reta(novo['2007Epidemia'], novo['2007IDH'])\n",
    "\n",
    "resultado"
   ]
  },
  {
   "cell_type": "markdown",
   "metadata": {},
   "source": [
    "\n",
    "## Conclusões deste Primeiro Gráfico:\n",
    "\n",
    "### Não existe relação direta entre o número de mortes por Epidemia e o IDH, logo pode-se concluir que independentemente de que país seja, uma epidemia iria ser tão letal quanto seria em qualquer outro lugar do mundo, existem apenas alguns pontos fora da curva (que são a excessão) e que puxam correlação entre esses dados pra cima... (Por coincidencia estes paises tem IDH baixo e apresentaram no ano anallisado um alto número de mortes por Epidemia)."
   ]
  },
  {
   "cell_type": "code",
   "execution_count": 15,
   "metadata": {},
   "outputs": [
    {
     "data": {
      "text/plain": [
       "<matplotlib.axes._subplots.AxesSubplot at 0x19d340974a8>"
      ]
     },
     "execution_count": 15,
     "metadata": {},
     "output_type": "execute_result"
    },
    {
     "data": {
      "image/png": "[encoded data removed]",
      "text/plain": [
       "<Figure size 432x288 with 1 Axes>"
      ]
     },
     "metadata": {},
     "output_type": "display_data"
    }
   ],
   "source": [
    "#Colocando o Dataframe (Empregos e IDH) em um gráfico de disperção\n",
    "\n",
    "juncao2.plot.scatter(x= ['2007Empregos'], y = ['2007IDH'])"
   ]
  },
  {
   "cell_type": "code",
   "execution_count": 88,
   "metadata": {},
   "outputs": [
    {
     "name": "stdout",
     "output_type": "stream",
     "text": [
      "Ajuste linear entre X3 e X4:\n",
      "Coeficiente linear: 0.7535583723979866\n",
      "Coeficiente angular: -0.0028955185035853957\n"
     ]
    },
    {
     "data": {
      "image/png": "[encoded data removed]",
      "text/plain": [
       "<Figure size 576x432 with 1 Axes>"
      ]
     },
     "metadata": {},
     "output_type": "display_data"
    }
   ],
   "source": [
    "def reta(dados_x, dados_y):    \n",
    "    a = dados_y.cov(dados_x) / dados_x.var()\n",
    "    b = dados_y.mean() - a*dados_x.mean()\n",
    " \n",
    "    print('Ajuste linear entre X3 e X4:')\n",
    "    print('Coeficiente linear:', b)\n",
    "    print('Coeficiente angular:', a)\n",
    " \n",
    "    fig = plt.figure(figsize=(8, 6))\n",
    "    plt.scatter(dados_x, dados_y, c='red', alpha=0.8)\n",
    "    plt.title('Empregos versus IDH')\n",
    "    plt.xlabel('Empregos')\n",
    "    plt.ylabel('IDH')\n",
    " \n",
    "    plt.plot((dados_x.min(), dados_x.max()), (a*dados_x.min()+b, a*dados_x.max()+b), color='blue')\n",
    " \n",
    "    plt.tight_layout()\n",
    "    plt.show()\n",
    "    \n",
    "    \n",
    "\n",
    "    \n",
    "resultado2 = reta(novo[2007],novo['2007IDH'])\n",
    "\n",
    "resultado2"
   ]
  },
  {
   "cell_type": "markdown",
   "metadata": {},
   "source": [
    "## Conclusões deste Segundo Gráfico:\n",
    "\n",
    "### Embora não haja uma correlação explicita entre a % de pessoas de 15 à 24 anos empregadas e o IDH, ao considerarmos que o IDH leva em conta anos de estudo, podemos hipotetizar que possa existir um fenômeno nos países de maior IDH, onde os jovens ( da faixa etária citada acima) não buscam emprego antes de terminarem a Universidade, focando nos estudos, ao passo que em países de baixo IDH haveria uma maior participação de jovens na renda da familia e na procura de empregos antes, depois e durante a Universidade."
   ]
  },
  {
   "cell_type": "markdown",
   "metadata": {},
   "source": [
    "# Conclusões :\n",
    "\n",
    "### Pela análise dos dados pude concluir que não houve relação direta entre o IDH e o número de mortes por epidemia e a porcentagem de empregos entre pessoas de 15 à 24 anos... De forma geral o IDH não é um fator que explique estes dois fenômenos, um destes fatores está na verdade diretamente correlacionado com a Economia e o outro com uma força da natureza que impactaria quaisquer países da mesma forma, independendo do nível de desenvolvimento de saúde pública. "
   ]
  },
  {
   "cell_type": "markdown",
   "metadata": {},
   "source": [
    "# ANALISANDO AGORA A EVOLUÇÃO DOS DADOS COM O PASSAR DOS ANOS:"
   ]
  },
  {
   "cell_type": "code",
   "execution_count": 92,
   "metadata": {},
   "outputs": [],
   "source": [
    "#Selecionando os dados do ano de 2000\n",
    "\n",
    "empregos = Empregos.loc[:,['Total 15-24 employment to population (%)',2000]]\n",
    "idh = IDH.loc[:,['HDI',2000]]"
   ]
  },
  {
   "cell_type": "code",
   "execution_count": 93,
   "metadata": {},
   "outputs": [],
   "source": [
    "#Definindo o índice\n",
    "\n",
    "idh_idx = idh.set_index('HDI')\n",
    "empregos_idx = empregos.set_index('Total 15-24 employment to population (%)')"
   ]
  },
  {
   "cell_type": "code",
   "execution_count": 94,
   "metadata": {},
   "outputs": [],
   "source": [
    "#Montando dois novos dataframes, um do ano de 2000 e outro de 2007, porém somente com Empregos e IDH\n",
    "\n",
    "dataframe2000 = empregos_idx.join(idh_idx, how = 'inner', lsuffix = 'Empregos', rsuffix = 'IDH')\n",
    "\n",
    "dataframe2007 = Empregos_idx.join(IDH_idx, how = 'inner', lsuffix = 'Empregos', rsuffix = 'IDH')"
   ]
  },
  {
   "cell_type": "markdown",
   "metadata": {},
   "source": [
    "## Aqui eu comparo as correlações entre esses dados nos dois anos observados:"
   ]
  },
  {
   "cell_type": "code",
   "execution_count": 95,
   "metadata": {},
   "outputs": [
    {
     "data": {
      "text/html": [
       "<div>\n",
       "<style scoped>\n",
       "    .dataframe tbody tr th:only-of-type {\n",
       "        vertical-align: middle;\n",
       "    }\n",
       "\n",
       "    .dataframe tbody tr th {\n",
       "        vertical-align: top;\n",
       "    }\n",
       "\n",
       "    .dataframe thead th {\n",
       "        text-align: right;\n",
       "    }\n",
       "</style>\n",
       "<table border=\"1\" class=\"dataframe\">\n",
       "  <thead>\n",
       "    <tr style=\"text-align: right;\">\n",
       "      <th></th>\n",
       "      <th>2000Empregos</th>\n",
       "      <th>2000IDH</th>\n",
       "    </tr>\n",
       "  </thead>\n",
       "  <tbody>\n",
       "    <tr>\n",
       "      <th>2000Empregos</th>\n",
       "      <td>1.000000</td>\n",
       "      <td>-0.167834</td>\n",
       "    </tr>\n",
       "    <tr>\n",
       "      <th>2000IDH</th>\n",
       "      <td>-0.167834</td>\n",
       "      <td>1.000000</td>\n",
       "    </tr>\n",
       "  </tbody>\n",
       "</table>\n",
       "</div>"
      ],
      "text/plain": [
       "              2000Empregos   2000IDH\n",
       "2000Empregos      1.000000 -0.167834\n",
       "2000IDH          -0.167834  1.000000"
      ]
     },
     "execution_count": 95,
     "metadata": {},
     "output_type": "execute_result"
    }
   ],
   "source": [
    "#No ano de 2000\n",
    "\n",
    "dataframe2000.corr()"
   ]
  },
  {
   "cell_type": "code",
   "execution_count": 96,
   "metadata": {},
   "outputs": [
    {
     "data": {
      "text/html": [
       "<div>\n",
       "<style scoped>\n",
       "    .dataframe tbody tr th:only-of-type {\n",
       "        vertical-align: middle;\n",
       "    }\n",
       "\n",
       "    .dataframe tbody tr th {\n",
       "        vertical-align: top;\n",
       "    }\n",
       "\n",
       "    .dataframe thead th {\n",
       "        text-align: right;\n",
       "    }\n",
       "</style>\n",
       "<table border=\"1\" class=\"dataframe\">\n",
       "  <thead>\n",
       "    <tr style=\"text-align: right;\">\n",
       "      <th></th>\n",
       "      <th>2007Empregos</th>\n",
       "      <th>2007IDH</th>\n",
       "    </tr>\n",
       "  </thead>\n",
       "  <tbody>\n",
       "    <tr>\n",
       "      <th>2007Empregos</th>\n",
       "      <td>1.000000</td>\n",
       "      <td>-0.144815</td>\n",
       "    </tr>\n",
       "    <tr>\n",
       "      <th>2007IDH</th>\n",
       "      <td>-0.144815</td>\n",
       "      <td>1.000000</td>\n",
       "    </tr>\n",
       "  </tbody>\n",
       "</table>\n",
       "</div>"
      ],
      "text/plain": [
       "              2007Empregos   2007IDH\n",
       "2007Empregos      1.000000 -0.144815\n",
       "2007IDH          -0.144815  1.000000"
      ]
     },
     "execution_count": 96,
     "metadata": {},
     "output_type": "execute_result"
    }
   ],
   "source": [
    "#No ano de 2007\n",
    "\n",
    "dataframe2007.corr()"
   ]
  },
  {
   "cell_type": "code",
   "execution_count": 97,
   "metadata": {},
   "outputs": [
    {
     "name": "stdout",
     "output_type": "stream",
     "text": [
      "Ajuste linear entre X3 e X4:\n",
      "Coeficiente linear: 0.7434978934101161\n",
      "Coeficiente angular: -0.0026605597790632166\n"
     ]
    },
    {
     "data": {
      "image/png": "[encoded data removed]",
      "text/plain": [
       "<Figure size 576x432 with 1 Axes>"
      ]
     },
     "metadata": {},
     "output_type": "display_data"
    }
   ],
   "source": [
    "#Traçando a reta de correlação dos dados do ano de 2000\n",
    "\n",
    "def reta(dados_x, dados_y):    \n",
    "    a = dados_y.cov(dados_x) / dados_x.var()\n",
    "    b = dados_y.mean() - a*dados_x.mean()\n",
    " \n",
    "    print('Ajuste linear entre X3 e X4:')\n",
    "    print('Coeficiente linear:', b)\n",
    "    print('Coeficiente angular:', a)\n",
    " \n",
    "    fig = plt.figure(figsize=(8, 6))\n",
    "    plt.scatter(dados_x, dados_y, c='red', alpha=0.8)\n",
    "    plt.title('Empregos versus IDH')\n",
    "    plt.xlabel('Empregos')\n",
    "    plt.ylabel('IDH')\n",
    " \n",
    "    plt.plot((dados_x.min(), dados_x.max()), (a*dados_x.min()+b, a*dados_x.max()+b), color='blue')\n",
    " \n",
    "    plt.tight_layout()\n",
    "    plt.show()\n",
    "    \n",
    "    \n",
    "\n",
    "    \n",
    "resultado3 = reta(dataframe2000['2000Empregos'],dataframe2000['2000IDH'])\n",
    "\n",
    "resultado3"
   ]
  },
  {
   "cell_type": "markdown",
   "metadata": {},
   "source": [
    "# CONCLUSÕES FINAIS:"
   ]
  },
  {
   "cell_type": "markdown",
   "metadata": {},
   "source": [
    "## Atráves da ánalise comparativa entre esses dois anos, pude perceber que minha hipótese inicial sobre a possivel correlação entre ter um IDH alto e ter menos empregabilidade para pessoas entre 15 e 24 anos pode estar correta, uma vez que analisando a taxa de correlação entre esses dados, vemos que do ano de 2000 (-0,167834) até o ano de 2007(-0,144815) houve um aumento nesta correlação de 0,023019. O que me leva a crer (agora com mais embasamento) de que deve existir uma tendência em países desenvolvidos (alto IDH), onde as pessoas desta faixa etária focam mais nos estudos e postergam o ínicio de suas vidas trabalhistas."
   ]
  }
 ],
 "metadata": {
  "kernelspec": {
   "display_name": "Python 3",
   "language": "python",
   "name": "python3"
  },
  "language_info": {
   "codemirror_mode": {
    "name": "ipython",
    "version": 3
   },
   "file_extension": ".py",
   "mimetype": "text/x-python",
   "name": "python",
   "nbconvert_exporter": "python",
   "pygments_lexer": "ipython3",
   "version": "3.6.5"
  }
 },
 "nbformat": 4,
 "nbformat_minor": 2
}
